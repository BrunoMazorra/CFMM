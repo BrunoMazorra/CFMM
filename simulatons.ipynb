{
 "cells": [
  {
   "cell_type": "code",
   "execution_count": 1,
   "id": "91210098",
   "metadata": {},
   "outputs": [],
   "source": [
    "from sympy import symbols \n",
    "from sympy import solve\n",
    "from sympy import *\n",
    "import numpy as np\n",
    "from scipy.optimize import minimize"
   ]
  },
  {
   "cell_type": "code",
   "execution_count": 2,
   "id": "1729e813",
   "metadata": {},
   "outputs": [],
   "source": [
    "R0,R1,x,y,k = symbols('R0,R1,x,y,k')"
   ]
  },
  {
   "cell_type": "code",
   "execution_count": 3,
   "id": "4a6356b4",
   "metadata": {},
   "outputs": [],
   "source": [
    "variable = np.random.uniform(0,1,1)[0]"
   ]
  },
  {
   "cell_type": "code",
   "execution_count": 4,
   "id": "f4869521",
   "metadata": {},
   "outputs": [
    {
     "data": {
      "text/plain": [
       "0.7945672765732427"
      ]
     },
     "execution_count": 4,
     "metadata": {},
     "output_type": "execute_result"
    }
   ],
   "source": [
    "variable"
   ]
  },
  {
   "cell_type": "code",
   "execution_count": 5,
   "id": "988a7258",
   "metadata": {},
   "outputs": [],
   "source": [
    "class MonteCarlo:\n",
    "    def __init__(self,R0,R1,alpha):\n",
    "        self.R0=R0\n",
    "        self.R1=R1\n",
    "        self.aplha=alpha\n",
    "        \n",
    "    def make_trade(self):\n",
    "        delta1 = np.random.uniform(0,1,1)[0]\n",
    "        delta2 = np.random.uniform(0,1,1)[0]\n",
    "        self.optimize_trade(delta1,delta2)\n",
    "        \n",
    "    def optimize_trade(self,delta1,delta2):\n",
    "\n",
    "        z = Symbol('z', positive=True)\n",
    "        r0 = self.R0\n",
    "        r1 = self.R1\n",
    "        g = - r0*r1/(r0+z)+r1\n",
    "        o = (delta1-z)*(g+delta2)\n",
    "        def fun(x):\n",
    "            g = - r0*r1/(r0+x)+r1\n",
    "            return -(delta1-x)*(g+delta2)\n",
    "        # solution = solve(o.diff(z))\n",
    "        bounds = [[0, delta1]]\n",
    "        solution = minimize(fun, [0], method='SLSQP',bounds=[(0,1)])\n",
    "        sol = solution.x[0]\n",
    "\n",
    "        z = Symbol('z', positive=True)\n",
    "        r0 = self.R0\n",
    "        r1 = self.R1\n",
    "        g = - r0*r1/(r1+z)+r0\n",
    "        o = (delta1+g)*(delta2-z)\n",
    "        def fun2(x):\n",
    "            g = - r0*r1/(r1+x)+r0\n",
    "            return -(delta2-x)*(g+delta1)\n",
    "        #solution2 = solve(o.diff(z))\n",
    "        bounds = [[0, delta2]]\n",
    "        solution2 = minimize(fun2, [0], method='SLSQP',bounds=[(0,1)])\n",
    "        sol2 = solution2.x[0]\n",
    "        if fun(sol)>fun2(sol2):\n",
    "            self.update_reserves(r0*r1/(r1+sol2)-r0,sol2)\n",
    "        else:\n",
    "            self.update_reserves(sol,r0*r1/(r0+sol)-r1)\n",
    "\n",
    "    def update_reserves(self,a,b):\n",
    "        self.R0 += a\n",
    "        self.R1 += b"
   ]
  },
  {
   "cell_type": "code",
   "execution_count": 6,
   "id": "ce6e9248",
   "metadata": {},
   "outputs": [],
   "source": [
    "monte = MonteCarlo(900,1111.111111111111,1)"
   ]
  },
  {
   "cell_type": "code",
   "execution_count": 7,
   "id": "aa20783f",
   "metadata": {},
   "outputs": [
    {
     "name": "stdout",
     "output_type": "stream",
     "text": [
      "iteration 0\n",
      "iteration 1000\n",
      "iteration 2000\n",
      "iteration 3000\n",
      "iteration 4000\n",
      "iteration 5000\n",
      "iteration 6000\n",
      "iteration 7000\n",
      "iteration 8000\n",
      "iteration 9000\n",
      "iteration 10000\n",
      "iteration 11000\n",
      "iteration 12000\n",
      "iteration 13000\n",
      "iteration 14000\n",
      "iteration 15000\n",
      "iteration 16000\n",
      "iteration 17000\n",
      "iteration 18000\n",
      "iteration 19000\n",
      "iteration 20000\n",
      "iteration 21000\n",
      "iteration 22000\n",
      "iteration 23000\n",
      "iteration 24000\n",
      "iteration 25000\n",
      "iteration 26000\n",
      "iteration 27000\n",
      "iteration 28000\n",
      "iteration 29000\n",
      "iteration 30000\n",
      "iteration 31000\n",
      "iteration 32000\n",
      "iteration 33000\n",
      "iteration 34000\n",
      "iteration 35000\n",
      "iteration 36000\n",
      "iteration 37000\n",
      "iteration 38000\n",
      "iteration 39000\n",
      "iteration 40000\n",
      "iteration 41000\n",
      "iteration 42000\n",
      "iteration 43000\n",
      "iteration 44000\n",
      "iteration 45000\n",
      "iteration 46000\n",
      "iteration 47000\n",
      "iteration 48000\n",
      "iteration 49000\n",
      "iteration 50000\n",
      "iteration 51000\n",
      "iteration 52000\n",
      "iteration 53000\n",
      "iteration 54000\n",
      "iteration 55000\n",
      "iteration 56000\n",
      "iteration 57000\n",
      "iteration 58000\n",
      "iteration 59000\n",
      "iteration 60000\n",
      "iteration 61000\n",
      "iteration 62000\n",
      "iteration 63000\n",
      "iteration 64000\n",
      "iteration 65000\n",
      "iteration 66000\n",
      "iteration 67000\n",
      "iteration 68000\n",
      "iteration 69000\n",
      "iteration 70000\n",
      "iteration 71000\n",
      "iteration 72000\n",
      "iteration 73000\n",
      "iteration 74000\n",
      "iteration 75000\n",
      "iteration 76000\n",
      "iteration 77000\n",
      "iteration 78000\n",
      "iteration 79000\n",
      "iteration 80000\n",
      "iteration 81000\n",
      "iteration 82000\n",
      "iteration 83000\n",
      "iteration 84000\n",
      "iteration 85000\n",
      "iteration 86000\n",
      "iteration 87000\n",
      "iteration 88000\n",
      "iteration 89000\n",
      "iteration 90000\n",
      "iteration 91000\n",
      "iteration 92000\n",
      "iteration 93000\n",
      "iteration 94000\n",
      "iteration 95000\n",
      "iteration 96000\n",
      "iteration 97000\n",
      "iteration 98000\n",
      "iteration 99000\n",
      "iteration 100000\n",
      "iteration 101000\n",
      "iteration 102000\n",
      "iteration 103000\n",
      "iteration 104000\n",
      "iteration 105000\n",
      "iteration 106000\n",
      "iteration 107000\n",
      "iteration 108000\n",
      "iteration 109000\n",
      "iteration 110000\n",
      "iteration 111000\n",
      "iteration 112000\n",
      "iteration 113000\n",
      "iteration 114000\n",
      "iteration 115000\n",
      "iteration 116000\n",
      "iteration 117000\n",
      "iteration 118000\n",
      "iteration 119000\n",
      "iteration 120000\n",
      "iteration 121000\n",
      "iteration 122000\n",
      "iteration 123000\n",
      "iteration 124000\n",
      "iteration 125000\n",
      "iteration 126000\n",
      "iteration 127000\n",
      "iteration 128000\n",
      "iteration 129000\n",
      "iteration 130000\n",
      "iteration 131000\n",
      "iteration 132000\n",
      "iteration 133000\n",
      "iteration 134000\n",
      "iteration 135000\n",
      "iteration 136000\n",
      "iteration 137000\n",
      "iteration 138000\n",
      "iteration 139000\n",
      "iteration 140000\n",
      "iteration 141000\n",
      "iteration 142000\n",
      "iteration 143000\n",
      "iteration 144000\n",
      "iteration 145000\n",
      "iteration 146000\n",
      "iteration 147000\n",
      "iteration 148000\n",
      "iteration 149000\n",
      "iteration 150000\n",
      "iteration 151000\n",
      "iteration 152000\n",
      "iteration 153000\n",
      "iteration 154000\n",
      "iteration 155000\n",
      "iteration 156000\n",
      "iteration 157000\n",
      "iteration 158000\n",
      "iteration 159000\n",
      "iteration 160000\n",
      "iteration 161000\n",
      "iteration 162000\n",
      "iteration 163000\n",
      "iteration 164000\n",
      "iteration 165000\n",
      "iteration 166000\n",
      "iteration 167000\n",
      "iteration 168000\n",
      "iteration 169000\n",
      "iteration 170000\n",
      "iteration 171000\n",
      "iteration 172000\n",
      "iteration 173000\n",
      "iteration 174000\n",
      "iteration 175000\n",
      "iteration 176000\n",
      "iteration 177000\n",
      "iteration 178000\n",
      "iteration 179000\n",
      "iteration 180000\n",
      "iteration 181000\n",
      "iteration 182000\n",
      "iteration 183000\n",
      "iteration 184000\n",
      "iteration 185000\n",
      "iteration 186000\n",
      "iteration 187000\n",
      "iteration 188000\n",
      "iteration 189000\n",
      "iteration 190000\n",
      "iteration 191000\n",
      "iteration 192000\n",
      "iteration 193000\n",
      "iteration 194000\n",
      "iteration 195000\n",
      "iteration 196000\n",
      "iteration 197000\n",
      "iteration 198000\n",
      "iteration 199000\n"
     ]
    }
   ],
   "source": [
    "reserves =list()\n",
    "for i in range(0,2*10**5):\n",
    "    if i%1000==0:\n",
    "        print(f'iteration {i}')\n",
    "    reserves.append((monte.R0,monte.R1))\n",
    "    monte.make_trade()"
   ]
  },
  {
   "cell_type": "code",
   "execution_count": 8,
   "id": "a094ea9a",
   "metadata": {},
   "outputs": [
    {
     "data": {
      "text/plain": [
       "<matplotlib.collections.PathCollection at 0x7f5cb3536b60>"
      ]
     },
     "execution_count": 8,
     "metadata": {},
     "output_type": "execute_result"
    },
    {
     "data": {
      "image/png": "[encoded data removed]",
      "text/plain": [
       "<Figure size 432x288 with 1 Axes>"
      ]
     },
     "metadata": {
      "needs_background": "light"
     },
     "output_type": "display_data"
    }
   ],
   "source": [
    "import numpy as np\n",
    "import matplotlib.pyplot as plt\n",
    "data = [[element[0] for element in reserves], [element[1] for element in reserves]]\n",
    "plt.scatter(data[0], data[1])"
   ]
  },
  {
   "cell_type": "code",
   "execution_count": 9,
   "id": "e06046fb",
   "metadata": {},
   "outputs": [
    {
     "data": {
      "text/plain": [
       "9971241441.337753"
      ]
     },
     "execution_count": 9,
     "metadata": {},
     "output_type": "execute_result"
    }
   ],
   "source": [
    "sum([element[0]/element[1] for element in reserves])/2*10**5"
   ]
  },
  {
   "cell_type": "code",
   "execution_count": 10,
   "id": "84962cfe",
   "metadata": {},
   "outputs": [
    {
     "data": {
      "image/png": "[encoded data removed]",
      "text/plain": [
       "<Figure size 432x288 with 1 Axes>"
      ]
     },
     "metadata": {
      "needs_background": "light"
     },
     "output_type": "display_data"
    }
   ],
   "source": [
    "plt.hist2d(data[0], data[1], bins=20)\n",
    "plt.xlabel(\"X reserves\")\n",
    "plt.ylabel(\"Y reserves\")\n",
    "plt.savefig('not_even_experiment.png')"
   ]
  },
  {
   "cell_type": "code",
   "execution_count": 11,
   "id": "29e503e9",
   "metadata": {},
   "outputs": [],
   "source": [
    "prices = [element[0]/element[1] for element in reserves]"
   ]
  },
  {
   "cell_type": "code",
   "execution_count": 12,
   "id": "78f8bb27",
   "metadata": {},
   "outputs": [],
   "source": [
    "avg_prices = list()\n",
    "price = 0\n",
    "for i in range(1,len(prices)):\n",
    "    price = ((i-1)*price+prices[i])/i\n",
    "    avg_prices.append(price)"
   ]
  },
  {
   "cell_type": "code",
   "execution_count": 13,
   "id": "1065fafc",
   "metadata": {},
   "outputs": [
    {
     "data": {
      "image/png": "[encoded data removed]",
      "text/plain": [
       "<Figure size 432x288 with 1 Axes>"
      ]
     },
     "metadata": {
      "needs_background": "light"
     },
     "output_type": "display_data"
    }
   ],
   "source": [
    "import matplotlib.pyplot as plt\n",
    "plt.plot(prices,color='green',linewidth=0.4)\n",
    "plt.plot(avg_prices,color='red')\n",
    "plt.ylabel('Marginal price')\n",
    "plt.xlabel('Number of iterations')\n",
    "plt.savefig('not_even_experiment_prices.png')"
   ]
  },
  {
   "cell_type": "code",
   "execution_count": null,
   "id": "f922551b",
   "metadata": {},
   "outputs": [],
   "source": []
  }
 ],
 "metadata": {
  "kernelspec": {
   "display_name": "Python 3 (ipykernel)",
   "language": "python",
   "name": "python3"
  },
  "language_info": {
   "codemirror_mode": {
    "name": "ipython",
    "version": 3
   },
   "file_extension": ".py",
   "mimetype": "text/x-python",
   "name": "python",
   "nbconvert_exporter": "python",
   "pygments_lexer": "ipython3",
   "version": "3.10.6"
  }
 },
 "nbformat": 4,
 "nbformat_minor": 5
}
