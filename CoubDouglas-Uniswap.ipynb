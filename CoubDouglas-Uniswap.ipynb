{
 "cells": [
  {
   "cell_type": "code",
   "execution_count": 66,
   "id": "0d327b17",
   "metadata": {},
   "outputs": [],
   "source": [
    "from sympy import symbols \n",
    "from sympy import solve\n",
    "from sympy import *"
   ]
  },
  {
   "cell_type": "code",
   "execution_count": 32,
   "id": "30d83a3e",
   "metadata": {},
   "outputs": [],
   "source": [
    "R0,R1,x,y,k = symbols('R0,R1,x,y,k')"
   ]
  },
  {
   "cell_type": "code",
   "execution_count": 9,
   "id": "f09840da",
   "metadata": {},
   "outputs": [],
   "source": [
    "g = -R0*R1/(R0+x)+R1"
   ]
  },
  {
   "cell_type": "code",
   "execution_count": 10,
   "id": "dc384b16",
   "metadata": {},
   "outputs": [],
   "source": [
    "g_inverse = -R0*R1/(R1+x)+R0"
   ]
  },
  {
   "cell_type": "code",
   "execution_count": 11,
   "id": "691b124e",
   "metadata": {},
   "outputs": [],
   "source": [
    "h = (1-x)*g"
   ]
  },
  {
   "cell_type": "code",
   "execution_count": 15,
   "id": "b049305d",
   "metadata": {},
   "outputs": [],
   "source": [
    "f = h.diff(x)"
   ]
  },
  {
   "cell_type": "code",
   "execution_count": 19,
   "id": "e08df55b",
   "metadata": {},
   "outputs": [
    {
     "data": {
      "text/latex": [
       "$\\displaystyle - R_{0} + \\sqrt{R_{0}^{2} + R_{0}}$"
      ],
      "text/plain": [
       "-R0 + sqrt(R0**2 + R0)"
      ]
     },
     "execution_count": 19,
     "metadata": {},
     "output_type": "execute_result"
    }
   ],
   "source": [
    "sol = solve(f,x)[1]\n",
    "sol"
   ]
  },
  {
   "cell_type": "code",
   "execution_count": 31,
   "id": "bdadb0fe",
   "metadata": {},
   "outputs": [
    {
     "data": {
      "text/latex": [
       "$\\displaystyle - \\frac{R_{0}^{2}}{\\sqrt{R_{0}^{2} + R_{0}}} + R_{0}$"
      ],
      "text/plain": [
       "-R0**2/sqrt(R0**2 + R0) + R0"
      ]
     },
     "execution_count": 31,
     "metadata": {},
     "output_type": "execute_result"
    }
   ],
   "source": [
    "d =g.subs(x,sol)\n",
    "s=d.subs([(R0,R1),(R1,R0)])\n",
    "s"
   ]
  },
  {
   "cell_type": "code",
   "execution_count": 29,
   "id": "ef029f85",
   "metadata": {},
   "outputs": [],
   "source": [
    "r= 1-sol-s"
   ]
  },
  {
   "cell_type": "code",
   "execution_count": 30,
   "id": "8dd72a76",
   "metadata": {},
   "outputs": [
    {
     "data": {
      "text/latex": [
       "$\\displaystyle \\frac{R_{0}^{2}}{\\sqrt{R_{0}^{2} + R_{0}}} - \\sqrt{R_{0}^{2} + R_{0}} + 1$"
      ],
      "text/plain": [
       "R0**2/sqrt(R0**2 + R0) - sqrt(R0**2 + R0) + 1"
      ]
     },
     "execution_count": 30,
     "metadata": {},
     "output_type": "execute_result"
    }
   ],
   "source": [
    "r"
   ]
  },
  {
   "cell_type": "code",
   "execution_count": null,
   "id": "45788d8b",
   "metadata": {},
   "outputs": [],
   "source": [
    "solve(sol.subs(R0,R1))"
   ]
  },
  {
   "cell_type": "code",
   "execution_count": 52,
   "id": "61e882cc",
   "metadata": {},
   "outputs": [],
   "source": [
    "solution = solve(1-(x**2+x)+k/((k/x)**2+(k/x)),x)[0]"
   ]
  },
  {
   "cell_type": "code",
   "execution_count": 69,
   "id": "6fd6bd3b",
   "metadata": {},
   "outputs": [
    {
     "data": {
      "text/latex": [
       "$\\displaystyle - \\frac{1000}{3} - \\frac{\\sqrt[3]{995491000 + 21 \\sqrt{76163326347} i}}{3} - \\frac{997003}{3 \\sqrt[3]{995491000 + 21 \\sqrt{76163326347} i}}$"
      ],
      "text/plain": [
       "-1000/3 - (995491000 + 21*sqrt(76163326347)*I)**(1/3)/3 - 997003/(3*(995491000 + 21*sqrt(76163326347)*I)**(1/3))"
      ]
     },
     "execution_count": 69,
     "metadata": {},
     "output_type": "execute_result"
    }
   ],
   "source": [
    "a"
   ]
  },
  {
   "cell_type": "code",
   "execution_count": 54,
   "id": "5b4603e3",
   "metadata": {},
   "outputs": [],
   "source": [
    "solution2 = solve(1-((k/x)**2+(k/x))+k/(x**2+x),x)[0]\n"
   ]
  },
  {
   "cell_type": "code",
   "execution_count": 70,
   "id": "a87e95d2",
   "metadata": {},
   "outputs": [],
   "source": [
    "a = solution.subs(k,1)\n",
    "b =solution2.subs(k,1000)"
   ]
  },
  {
   "cell_type": "code",
   "execution_count": 71,
   "id": "bc624223",
   "metadata": {},
   "outputs": [
    {
     "data": {
      "text/latex": [
       "$\\displaystyle - \\frac{1}{3} - \\frac{\\sqrt[3]{- \\frac{25}{2} + \\frac{3 \\sqrt{69}}{2}}}{3} - \\frac{1}{3 \\sqrt[3]{- \\frac{25}{2} + \\frac{3 \\sqrt{69}}{2}}}$"
      ],
      "text/plain": [
       "-1/3 - (-25/2 + 3*sqrt(69)/2)**(1/3)/3 - 1/(3*(-25/2 + 3*sqrt(69)/2)**(1/3))"
      ]
     },
     "execution_count": 71,
     "metadata": {},
     "output_type": "execute_result"
    }
   ],
   "source": [
    "a"
   ]
  },
  {
   "cell_type": "code",
   "execution_count": 63,
   "id": "cf133cc3",
   "metadata": {},
   "outputs": [
    {
     "data": {
      "text/latex": [
       "$\\displaystyle 333 - \\frac{\\sqrt[3]{-5506002999 + 21000 \\sqrt{76163326347} i}}{3} - \\frac{1332667}{\\sqrt[3]{-5506002999 + 21000 \\sqrt{76163326347} i}}$"
      ],
      "text/plain": [
       "333 - (-5506002999 + 21000*sqrt(76163326347)*I)**(1/3)/3 - 1332667/(-5506002999 + 21000*sqrt(76163326347)*I)**(1/3)"
      ]
     },
     "execution_count": 63,
     "metadata": {},
     "output_type": "execute_result"
    }
   ],
   "source": [
    "b"
   ]
  },
  {
   "cell_type": "code",
   "execution_count": null,
   "id": "0b22daf6",
   "metadata": {},
   "outputs": [],
   "source": []
  }
 ],
 "metadata": {
  "kernelspec": {
   "display_name": "Python 3 (ipykernel)",
   "language": "python",
   "name": "python3"
  },
  "language_info": {
   "codemirror_mode": {
    "name": "ipython",
    "version": 3
   },
   "file_extension": ".py",
   "mimetype": "text/x-python",
   "name": "python",
   "nbconvert_exporter": "python",
   "pygments_lexer": "ipython3",
   "version": "3.10.6"
  }
 },
 "nbformat": 4,
 "nbformat_minor": 5
}
